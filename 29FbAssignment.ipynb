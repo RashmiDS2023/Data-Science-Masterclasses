{
 "cells": [
  {
   "cell_type": "markdown",
   "id": "ddd08e84-7f8a-44cd-96f1-2e31d982f38f",
   "metadata": {},
   "source": [
    "1. Who developed Pytho Programming Language?\n",
    "    \n",
    "    Guido van Rossum is a Dutch programmer best known as the creator of the Python programming language."
   ]
  },
  {
   "cell_type": "markdown",
   "id": "54652b1a-7ab4-4148-92b0-2945add5c3ef",
   "metadata": {},
   "source": [
    "2. Which typr of programming language does python support?\n",
    "\n",
    "    Python is dynamically typed and garbage-collected. It supports multiple programming paradigms, including structured (particularly procedural), object-oriented and functional programming."
   ]
  },
  {
   "cell_type": "markdown",
   "id": "4b712fae-c3fa-4ee4-a296-e9a031aaa5ba",
   "metadata": {},
   "source": [
    "3. Is Python case sensitive when dealing with identifiers?\n",
    "\n",
    "    Yes, Python is a case-sensitive language, i.e., it treats uppercase and lowercase characters differently. This applies to identifiers too."
   ]
  },
  {
   "cell_type": "markdown",
   "id": "7a0a83a2-66fd-4515-9f12-783da5825450",
   "metadata": {},
   "source": [
    "4. What is correct extension of python file?\n",
    "\n",
    "    py.,.pyi.,.pyc.,.pyd.,.pyo.,.pyw.,.pyz.,.ipynb"
   ]
  },
  {
   "cell_type": "markdown",
   "id": "0f3dc34d-9726-4327-bbf5-1b275fe7d9d6",
   "metadata": {},
   "source": [
    "5. Is Python code compiled or interpreted?\n",
    "\n",
    "    Python is Both Compiled as well as Interpreted"
   ]
  },
  {
   "cell_type": "markdown",
   "id": "826b755c-35d3-41c9-bac8-1d62d41f32b4",
   "metadata": {},
   "source": [
    "6. Name a few blocks of code use to define in Python Language?\n",
    "\n",
    "    Indentation is used to define a block of code in python\n",
    "    A Python program is constructed from code blocks. A block is a piece of Python program text that is executed as a unit. The following are blocks: a module, a function body, and a class definition"
   ]
  },
  {
   "cell_type": "markdown",
   "id": "252fb645-007b-452b-b86d-0572737c42a3",
   "metadata": {},
   "source": [
    "7. State a character used to give single line comments in Python?\n",
    "\n",
    "    We can write a single-line comment by adding a single # character before any statement or line of code"
   ]
  },
  {
   "cell_type": "markdown",
   "id": "23815928-85b1-4f68-85a7-580af05a642c",
   "metadata": {},
   "source": [
    "8. Mention functions which will help us to find version of Python which we are working on?\n",
    "\n",
    "    Using sys. version method, Using python_version() function, Using Python -V command."
   ]
  },
  {
   "cell_type": "code",
   "execution_count": 2,
   "id": "4866ab0f-35f8-4698-acf2-2119d95e702f",
   "metadata": {},
   "outputs": [
    {
     "name": "stdout",
     "output_type": "stream",
     "text": [
      "Python version\n",
      "3.10.8 | packaged by conda-forge | (main, Nov 22 2022, 08:26:04) [GCC 10.4.0]\n"
     ]
    }
   ],
   "source": [
    "import sys\n",
    "print(\"Python version\")\n",
    "print (sys.version)"
   ]
  },
  {
   "cell_type": "markdown",
   "id": "b6ff03ba-ffec-49f0-b218-211ecfd8ff5b",
   "metadata": {},
   "source": [
    "9. Python supports the creation of anonymous functions at runtime using a constructor?\n",
    "\n",
    "    lambda"
   ]
  },
  {
   "cell_type": "markdown",
   "id": "23f4e8b2-5246-4542-b905-b5d9d16f8657",
   "metadata": {},
   "source": [
    "10.What does pip stand for python?\n",
    "\n",
    "    PIP is a recursive acronym for “Preferred Installer Program” or PIP Installs Packages.\n",
    "    Pip is a package manager for Python that allows you to install additional libraries and packages that are not part of the standard Python library such as the ones found in the Python Package Index."
   ]
  },
  {
   "cell_type": "markdown",
   "id": "ed948ba8-8e4f-4175-8618-29cac713b117",
   "metadata": {},
   "source": [
    "11. Mention a few built-in functions of Python.\n",
    "\n",
    "    abs()\tReturns the absolute value of a number, int()\tReturns an integer number, str()\tReturns a string object, range()\tReturns a sequence of numbers, starting from 0 and increments by 1 (by default), float()\tReturns a floating point number"
   ]
  },
  {
   "cell_type": "markdown",
   "id": "57de55d1-ecc7-4f35-84b8-30389597513c",
   "metadata": {},
   "source": [
    "12. What is maximum possible length of Identifier in Python?\n",
    "    \n",
    "     An identifier can have a maximum length of 79 characters in Python. \n",
    "    "
   ]
  },
  {
   "cell_type": "markdown",
   "id": "257bb4d2-78f5-480c-b902-ef87ffbf09c2",
   "metadata": {},
   "source": [
    "13. What are the benefits of using Python?\n",
    "\n",
    "    Easy to Code, easy to read, Free and Open-Source, Robust Standard Library, Interpreted, Object-Oriented and Procedure-Oriented, Extensible, Expressive, Support for GUI, Dynamically Typed, Simplify Complex Software Development,"
   ]
  },
  {
   "cell_type": "markdown",
   "id": "e1864e0e-b9c9-4e00-b508-0e1b51e3a7a9",
   "metadata": {},
   "source": [
    "14. How is memory managed in Python?\n",
    "\n",
    "    In Python, memory management is done by python's internal memory manager and its performance largely depends upon the way python is internally implemented, yes python is written in some other language! Among the implementations of python CPython, JPython and PyPy are worth a mention.\n",
    "    \n",
    "    Python Memory Manager is responsible to manage memory allocation and deallocation to various processes that are under execution in python.\n",
    "\n",
    "Every python process has two types of memory allocated to it\n",
    "\n",
    "    Static Memory\n",
    "    Dynamic Memory\n",
    "\n",
    "    Whenever a new function or class is declared it is very common to have some variable declaration inside them, these declarations are associated with the function itself and do not change in the runtime. They occupy a fixed memory size. Hence these are stored in the stack area.\n",
    "\n",
    "    Whenever a new function or class is declared it is very common to have some variable declaration inside them, these declarations are associated with the function itself and do not change in the runtime. They occupy a fixed memory size. Hence these are stored in the stack area."
   ]
  },
  {
   "cell_type": "markdown",
   "id": "5dbe2718-4c01-4198-90ef-6a042c671129",
   "metadata": {},
   "source": [
    "15. How to install in Python in Windows and set path variable?\n",
    "\n",
    "    Go to the official Python website and download the latest version of Python for Windows.\n",
    "\n",
    "    Run the downloaded executable file and follow the installation wizard.\n",
    "\n",
    "    During the installation process, you will be prompted to choose the installation directory. It is recommended to choose the default directory.\n",
    "\n",
    "    In the next screen, make sure to check the \"Add Python 3.x to PATH\" option. This will automatically set the path variable for you.\n",
    "\n",
    "    Complete the installation process by following the on-screen instructions.\n",
    "\n",
    "    To check if Python is installed and the path variable is set, open the Command Prompt and type \"python\" followed by Enter. If Python is installed and the path variable is set correctly, you should see the Python version number and the Python prompt.\n",
    "\n",
    "    If you encounter any issues during the installation process, refer to the official Python documentation or seek help from the Python community."
   ]
  },
  {
   "cell_type": "markdown",
   "id": "b6c3747f-2023-4a22-913b-7e943bbf3c15",
   "metadata": {},
   "source": [
    "16. Is indentation required in python?\n",
    "\n",
    "    Yes, indentation is required in Python. Python uses indentation to indicate the grouping of statements. In most programming languages, curly braces are used to indicate code blocks, but in Python, indentation is used instead. This means that code blocks are defined by their indentation level, and the amount of indentation must be consistent within each block."
   ]
  },
  {
   "cell_type": "code",
   "execution_count": null,
   "id": "e3d456ab-d194-438f-a48e-cf8833c178a4",
   "metadata": {},
   "outputs": [],
   "source": []
  }
 ],
 "metadata": {
  "kernelspec": {
   "display_name": "Python 3 (ipykernel)",
   "language": "python",
   "name": "python3"
  },
  "language_info": {
   "codemirror_mode": {
    "name": "ipython",
    "version": 3
   },
   "file_extension": ".py",
   "mimetype": "text/x-python",
   "name": "python",
   "nbconvert_exporter": "python",
   "pygments_lexer": "ipython3",
   "version": "3.10.8"
  }
 },
 "nbformat": 4,
 "nbformat_minor": 5
}
