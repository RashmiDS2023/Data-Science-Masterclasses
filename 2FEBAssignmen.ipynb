{
 "cells": [
  {
   "cell_type": "code",
   "execution_count": null,
   "id": "d672c418-68d4-46ff-8b22-baeb98a7e287",
   "metadata": {},
   "outputs": [],
   "source": []
  },
  {
   "cell_type": "markdown",
   "id": "c4624e57-87a3-4242-beaa-ff17cc1271c6",
   "metadata": {},
   "source": [
    "Q1. What are the characteristics of the tuples? Is tuple immutable?\n",
    "\n",
    "\n",
    "     Characteristics of TUPLE- \n",
    "     1. Tuples are used to store single or multiple items in the single varible\n",
    "     2. Tuple is collection of data, with different data type or with similar datatypes\n",
    "     3. Tuples items are indexed, ordered.\n",
    "     5. Yes Tuple is immutable (doesn't allow changes at oparticular index, won't able to update anything in the tuple at the indexes)\n",
    "     "
   ]
  },
  {
   "cell_type": "markdown",
   "id": "29939a0a-616a-408d-acc0-621618d49bac",
   "metadata": {},
   "source": [
    "Q2. What are the two tuple methods in python? Give an example of each method. Give a reason why\n",
    "tuples have only two in-built methods as compared to Lists.\n",
    "\n",
    "    Two Tuple methodas are as followiing:\n",
    "    1. Index\n",
    "    2. Count\n",
    "\n",
    "Consider the below example:\n"
   ]
  },
  {
   "cell_type": "code",
   "execution_count": 2,
   "id": "f3f4d0f5-4690-4a2c-a1da-07ee13145a8f",
   "metadata": {},
   "outputs": [],
   "source": [
    "t1=(1,5,\"Hello\",6.8,9,0)"
   ]
  },
  {
   "cell_type": "code",
   "execution_count": 15,
   "id": "9b8328ee-5f02-4280-86f6-5cb96bc12a6c",
   "metadata": {},
   "outputs": [
    {
     "data": {
      "text/plain": [
       "0"
      ]
     },
     "execution_count": 15,
     "metadata": {},
     "output_type": "execute_result"
    }
   ],
   "source": [
    "t1.index(1) #giving the index of the data\n"
   ]
  },
  {
   "cell_type": "code",
   "execution_count": 5,
   "id": "2480749a-7408-4a7f-9d05-6a1b7069267c",
   "metadata": {},
   "outputs": [
    {
     "data": {
      "text/plain": [
       "2"
      ]
     },
     "execution_count": 5,
     "metadata": {},
     "output_type": "execute_result"
    }
   ],
   "source": [
    "t1.index(\"Hello\")\n"
   ]
  },
  {
   "cell_type": "code",
   "execution_count": 6,
   "id": "fcd1f119-43a3-49a0-9641-204b1dcaad58",
   "metadata": {},
   "outputs": [
    {
     "data": {
      "text/plain": [
       "1"
      ]
     },
     "execution_count": 6,
     "metadata": {},
     "output_type": "execute_result"
    }
   ],
   "source": [
    "t1.count(1) #count how many times the value 1 appered in tuple, returns count of the element in the tuple \n"
   ]
  },
  {
   "cell_type": "code",
   "execution_count": 7,
   "id": "0066a9b6-ec0c-4cc6-ad74-cb051ea145c5",
   "metadata": {},
   "outputs": [],
   "source": [
    "t2=(4,8,5,\"str\",7,9,3,5,2,True,1,0,False)"
   ]
  },
  {
   "cell_type": "code",
   "execution_count": 8,
   "id": "c37f5073-d6b2-45d1-ad6f-c6bf31c72978",
   "metadata": {},
   "outputs": [
    {
     "data": {
      "text/plain": [
       "11"
      ]
     },
     "execution_count": 8,
     "metadata": {},
     "output_type": "execute_result"
    }
   ],
   "source": [
    "t2.index(0)"
   ]
  },
  {
   "cell_type": "code",
   "execution_count": 10,
   "id": "fd6fe537-7a67-45ee-a6bd-9ac8917c88a3",
   "metadata": {},
   "outputs": [
    {
     "data": {
      "text/plain": [
       "9"
      ]
     },
     "execution_count": 10,
     "metadata": {},
     "output_type": "execute_result"
    }
   ],
   "source": [
    "t2.index(1) # giving 9 since True in the backend is saved as 1\n"
   ]
  },
  {
   "cell_type": "code",
   "execution_count": 13,
   "id": "86459daa-96f0-4378-8201-5b0906e7077c",
   "metadata": {},
   "outputs": [
    {
     "data": {
      "text/plain": [
       "2"
      ]
     },
     "execution_count": 13,
     "metadata": {},
     "output_type": "execute_result"
    }
   ],
   "source": [
    "t2.count(1) # giving output as 2, since Trues is also 1\n"
   ]
  },
  {
   "cell_type": "code",
   "execution_count": 12,
   "id": "4d06a45a-1a6b-403e-93f7-d819e83d7798",
   "metadata": {},
   "outputs": [
    {
     "data": {
      "text/plain": [
       "2"
      ]
     },
     "execution_count": 12,
     "metadata": {},
     "output_type": "execute_result"
    }
   ],
   "source": [
    "t2.count(0)\n"
   ]
  },
  {
   "cell_type": "code",
   "execution_count": 14,
   "id": "2590a3bb-ef6a-4ed5-ad87-ade42e210020",
   "metadata": {},
   "outputs": [
    {
     "data": {
      "text/plain": [
       "2"
      ]
     },
     "execution_count": 14,
     "metadata": {},
     "output_type": "execute_result"
    }
   ],
   "source": [
    "t2.count(5)\n"
   ]
  },
  {
   "cell_type": "markdown",
   "id": "e346af3e-e1c8-4d69-b365-fad0e1dd336c",
   "metadata": {},
   "source": [
    "Tuples have only two methods since they are immutable, and list can be can be modified, we can add, remove data from the list but same is not applicable for tuple"
   ]
  },
  {
   "cell_type": "markdown",
   "id": "f801f21b-ab9d-455d-a649-a4ae841a1a8a",
   "metadata": {},
   "source": [
    "***********************************************************************************************************************"
   ]
  },
  {
   "cell_type": "markdown",
   "id": "c9679736-5cea-45f7-a026-7da790f11402",
   "metadata": {},
   "source": [
    "Q3. Which collection datatypes in python do not allow duplicate items? Write a code using a set to remove\n",
    "duplicates from the given list.\n",
    "\n",
    "    Set is the Collection datatype in python which does not allow duplicate.\n",
    "    Consider the following example fo rthe above situation:"
   ]
  },
  {
   "cell_type": "code",
   "execution_count": 22,
   "id": "7b43a4fc-6b12-47b9-8c93-78cc268f4b86",
   "metadata": {},
   "outputs": [],
   "source": [
    "List = [1, 1, 1, 2, 1, 3, 1, 4, 2, 1, 2, 2, 2, 3, 2, 4, 3, 1, 3, 2, 3, 3, 3, 4, 4, 1, 4, 2, 4, 3, 4, 4] #list with duplicate values"
   ]
  },
  {
   "cell_type": "code",
   "execution_count": 23,
   "id": "218752fe-7c78-4f82-829a-4fde3aa2474e",
   "metadata": {},
   "outputs": [
    {
     "data": {
      "text/plain": [
       "{1, 2, 3, 4}"
      ]
     },
     "execution_count": 23,
     "metadata": {},
     "output_type": "execute_result"
    }
   ],
   "source": [
    "set(List)"
   ]
  },
  {
   "cell_type": "markdown",
   "id": "4570038a-6b88-468f-94bc-38c0593447fa",
   "metadata": {},
   "source": [
    "Here you can that the duplicates from list are now removed using set  "
   ]
  },
  {
   "cell_type": "markdown",
   "id": "b735c73a-71b9-483e-99ec-2e0ee264204f",
   "metadata": {},
   "source": [
    "******************************************************************************************************************"
   ]
  },
  {
   "cell_type": "markdown",
   "id": "3e19f1d6-ea92-495a-95b9-473a27af52c2",
   "metadata": {},
   "source": [
    "Q4. Explain the difference between the union() and update() methods for a set. Give an example of\n",
    "each method.\n",
    "\n",
    "    Difference between union and update method for set :\n",
    "    1.Union-Return a set that contains all items from both sets,excluding duplicates \n",
    "    If an item is present in more than one set, the result will contain only one appearance of this item\n",
    "    \n",
    "    2.Update-This method updates the current set, by adding items from another set or any other iterable "
   ]
  },
  {
   "cell_type": "code",
   "execution_count": 24,
   "id": "05d1ea19-e263-4722-966e-f4cf3c01f095",
   "metadata": {},
   "outputs": [],
   "source": [
    "List = [1, 1, 1, 2, 1, 3, 1, 4, 2, 1, 2, 2, 2, 3, 2, 4, 3, 1, 3, 2, 3, 3, 3, 4, 4, 1, 4, 2, 4, 3, 4, 4]"
   ]
  },
  {
   "cell_type": "code",
   "execution_count": 26,
   "id": "86757675-e73b-4667-866d-87a2a6ef0e8b",
   "metadata": {},
   "outputs": [],
   "source": [
    "s1={5,8,2,1,3}"
   ]
  },
  {
   "cell_type": "code",
   "execution_count": 33,
   "id": "d83cb669-364d-4cc3-af82-be8be01c0f77",
   "metadata": {},
   "outputs": [],
   "source": [
    "s1.update(List)"
   ]
  },
  {
   "cell_type": "code",
   "execution_count": 35,
   "id": "07dc5556-9980-4519-8e07-6ce6e367a5be",
   "metadata": {},
   "outputs": [],
   "source": [
    "s2={\"Rashmmi\", \"learning\",\"python\"}"
   ]
  },
  {
   "cell_type": "code",
   "execution_count": 31,
   "id": "8a3ba920-06b4-4945-9281-22c2c132f81d",
   "metadata": {},
   "outputs": [
    {
     "name": "stdout",
     "output_type": "stream",
     "text": [
      "{1, 2, 3, 4, 5, 8}\n"
     ]
    }
   ],
   "source": [
    "print(s1)"
   ]
  },
  {
   "cell_type": "code",
   "execution_count": 32,
   "id": "3aa6fbd5-63a4-4820-b1ad-4b4196c7559f",
   "metadata": {},
   "outputs": [
    {
     "data": {
      "text/plain": [
       "{1, 2, 3, 4, 5, 8}"
      ]
     },
     "execution_count": 32,
     "metadata": {},
     "output_type": "execute_result"
    }
   ],
   "source": [
    "s1.union(List)"
   ]
  },
  {
   "cell_type": "code",
   "execution_count": 37,
   "id": "f9bed923-b178-4f7b-99f6-b9ae9826184d",
   "metadata": {},
   "outputs": [],
   "source": [
    "s1.update(List,s2)"
   ]
  },
  {
   "cell_type": "code",
   "execution_count": 38,
   "id": "08739cac-37f1-4a26-b312-28d73883b11a",
   "metadata": {},
   "outputs": [
    {
     "name": "stdout",
     "output_type": "stream",
     "text": [
      "{1, 2, 3, 4, 5, 8, 'learning', 'python', 'Rashmmi'}\n"
     ]
    }
   ],
   "source": [
    "print(s1)"
   ]
  },
  {
   "cell_type": "code",
   "execution_count": 40,
   "id": "0b99152b-c1e7-427d-8043-b91dcdc47e77",
   "metadata": {},
   "outputs": [
    {
     "data": {
      "text/plain": [
       "{1, 2, 3, 4, 5, 8, 'Rashmmi', 'learning', 'python'}"
      ]
     },
     "execution_count": 40,
     "metadata": {},
     "output_type": "execute_result"
    }
   ],
   "source": [
    "s1.union(s2,List)"
   ]
  },
  {
   "cell_type": "markdown",
   "id": "682d7dcf-6586-4d24-8154-721ce50a5f7d",
   "metadata": {},
   "source": [
    "Q5. What is a dictionary? Give an example. Also, state whether a dictionary is ordered or unordered.\n",
    "\n",
    "    Dictionary is the collection which is used to store data in key value pair\n",
    "    Key and its respective values,can be referred to by using the key name,Dictionary items are ordered, changeable, and does not allow duplicates.\n",
    "    \n",
    "    Keys must be always unique,if sam is created again it will update with new, key can be of any data type string, int, float,boolean,and from collection only tuple\n",
    "    \n",
    "    Values can be tuple, list,set,string,int,float,bool,dict"
   ]
  },
  {
   "cell_type": "code",
   "execution_count": 45,
   "id": "c626262a-d660-4301-a929-febcc7021887",
   "metadata": {},
   "outputs": [],
   "source": [
    "d1={ \"name\":\"rashmi\", \"id\":87382, \"area\":\"Bangalore\"}"
   ]
  },
  {
   "cell_type": "code",
   "execution_count": 46,
   "id": "1008bf25-a27a-4bd7-9a6b-86aa7307923d",
   "metadata": {},
   "outputs": [
    {
     "data": {
      "text/plain": [
       "{'name': 'rashmi', 'id': 87382, 'area': 'Bangalore'}"
      ]
     },
     "execution_count": 46,
     "metadata": {},
     "output_type": "execute_result"
    }
   ],
   "source": [
    "d1"
   ]
  },
  {
   "cell_type": "markdown",
   "id": "27b100d5-31aa-45d5-a94f-4e706d237c2b",
   "metadata": {},
   "source": [
    "Dictionary items are ordered"
   ]
  },
  {
   "cell_type": "code",
   "execution_count": 49,
   "id": "3f5b7155-fed4-481b-87a7-304e886f4d8e",
   "metadata": {},
   "outputs": [],
   "source": [
    "d2={\"a\":\"hlo\",\"a\":\"hi\"}"
   ]
  },
  {
   "cell_type": "code",
   "execution_count": 50,
   "id": "a8f332e6-b81d-4c0b-a57b-36172256d301",
   "metadata": {},
   "outputs": [
    {
     "data": {
      "text/plain": [
       "{'a': 'hi'}"
      ]
     },
     "execution_count": 50,
     "metadata": {},
     "output_type": "execute_result"
    }
   ],
   "source": [
    "d2"
   ]
  },
  {
   "cell_type": "code",
   "execution_count": 51,
   "id": "9b780792-9140-402a-b63b-7be93ed71070",
   "metadata": {},
   "outputs": [
    {
     "data": {
      "text/plain": [
       "'hi'"
      ]
     },
     "execution_count": 51,
     "metadata": {},
     "output_type": "execute_result"
    }
   ],
   "source": [
    "d2[\"a\"]"
   ]
  },
  {
   "cell_type": "code",
   "execution_count": 53,
   "id": "c8a64d7f-fbbe-4e40-8844-120e93b16c6f",
   "metadata": {},
   "outputs": [
    {
     "data": {
      "text/plain": [
       "87382"
      ]
     },
     "execution_count": 53,
     "metadata": {},
     "output_type": "execute_result"
    }
   ],
   "source": [
    "d1[\"id\"]"
   ]
  },
  {
   "cell_type": "markdown",
   "id": "29e96d9c-5283-4d51-a795-1267d4c50481",
   "metadata": {},
   "source": [
    "Q6. Can we create a nested dictionary? If so, please give an example by creating a simple one-level\n",
    "nested dictionary.\n",
    "\n",
    "     Yes we can create nested dictionary\n",
    "Consider the following example"
   ]
  },
  {
   "cell_type": "code",
   "execution_count": 57,
   "id": "23bf46ea-e654-4655-b8d0-2621b30fa091",
   "metadata": {},
   "outputs": [],
   "source": [
    "dic1={\"batch_name\":[\"DSM\",\"WEB DEV\",\"JDSA\"], \"time\":[8,6,5], \"mentors\":{\"krish\",\"sudhanshu\",\"hitesh\",\"anurag\",\"navin\"},\"new\":{1:\"A\",2:\"B\"}}"
   ]
  },
  {
   "cell_type": "code",
   "execution_count": 58,
   "id": "c6a8ba1f-1cfc-43a2-b7c6-3822c13bb6f1",
   "metadata": {},
   "outputs": [
    {
     "data": {
      "text/plain": [
       "{1: 'A', 2: 'B'}"
      ]
     },
     "execution_count": 58,
     "metadata": {},
     "output_type": "execute_result"
    }
   ],
   "source": [
    "dic1[\"new\"]"
   ]
  },
  {
   "cell_type": "code",
   "execution_count": 62,
   "id": "5933f9dd-a3be-476a-9bdf-84bb44297b38",
   "metadata": {},
   "outputs": [
    {
     "data": {
      "text/plain": [
       "set"
      ]
     },
     "execution_count": 62,
     "metadata": {},
     "output_type": "execute_result"
    }
   ],
   "source": [
    "type(dic1[\"mentors\"])"
   ]
  },
  {
   "cell_type": "code",
   "execution_count": 63,
   "id": "a744a0ca-ec8c-4cdf-b24a-a2929ead3e66",
   "metadata": {},
   "outputs": [
    {
     "data": {
      "text/plain": [
       "dict"
      ]
     },
     "execution_count": 63,
     "metadata": {},
     "output_type": "execute_result"
    }
   ],
   "source": [
    "type(dic1[\"new\"])"
   ]
  },
  {
   "cell_type": "markdown",
   "id": "f613a076-ef5a-4219-bc77-800ccbb4ad92",
   "metadata": {},
   "source": [
    "Q7. Using setdefault() method, create key named topics in the given dictionary and also add the value of\n",
    "the key as this list ['Python', 'Machine Learning’, 'Deep Learning']\n",
    "\n",
    "    setdefault()=Returns the value of the specified key. If the key does not exist: insert the key, with the specified value\n",
    "    \n",
    "    syntax if key does not exits= dictionary.setdefault(keyname, value)"
   ]
  },
  {
   "cell_type": "code",
   "execution_count": 64,
   "id": "371619df-cc84-426a-aec1-e7bf9c0eccf0",
   "metadata": {},
   "outputs": [],
   "source": [
    "dict1 = {'language' : 'Python', 'course': 'Data Science Masters'}"
   ]
  },
  {
   "cell_type": "code",
   "execution_count": 67,
   "id": "afcac2a9-e4ba-459a-a65f-bcd51cebfbf3",
   "metadata": {},
   "outputs": [
    {
     "data": {
      "text/plain": [
       "['Python', 'Machine Learning', 'Deep Learning']"
      ]
     },
     "execution_count": 67,
     "metadata": {},
     "output_type": "execute_result"
    }
   ],
   "source": [
    "dict1.setdefault(\"Topocs\", ['Python','Machine Learning','Deep Learning'])"
   ]
  },
  {
   "cell_type": "code",
   "execution_count": 69,
   "id": "79db7d9d-fe54-4868-b707-31f0e886ad91",
   "metadata": {},
   "outputs": [
    {
     "data": {
      "text/plain": [
       "{'language': 'Python',\n",
       " 'course': 'Data Science Masters',\n",
       " 'Topocs': ['Python', 'Machine Learning', 'Deep Learning']}"
      ]
     },
     "execution_count": 69,
     "metadata": {},
     "output_type": "execute_result"
    }
   ],
   "source": [
    "dict1"
   ]
  },
  {
   "cell_type": "markdown",
   "id": "6749d353-00c7-4f64-90bb-725d34955155",
   "metadata": {},
   "source": [
    "Q8. What are the three view objects in dictionaries? Use the three in-built methods in python to display\n",
    "these three view objects for the given dictionary.\n",
    "\n",
    "    The objects returned by dict.keys(), dict.values() and dict.items() are view objects. They provide a dynamic view on the dictionary’s entries, which means that when the dictionary changes, the view reflects these changes.\n",
    "\n"
   ]
  },
  {
   "cell_type": "code",
   "execution_count": 71,
   "id": "49936a06-ef3d-4493-b375-7ec14413840b",
   "metadata": {},
   "outputs": [],
   "source": [
    "s1={\"a\":\"Hi\",1:209,\"g\":[1,5,6,7,8]}"
   ]
  },
  {
   "cell_type": "code",
   "execution_count": 73,
   "id": "0717d37d-b191-4c2f-818e-54e73dfed721",
   "metadata": {},
   "outputs": [
    {
     "data": {
      "text/plain": [
       "dict_keys(['a', 1, 'g'])"
      ]
     },
     "execution_count": 73,
     "metadata": {},
     "output_type": "execute_result"
    }
   ],
   "source": [
    "s1.keys()"
   ]
  },
  {
   "cell_type": "code",
   "execution_count": 75,
   "id": "0d3ad851-43a7-4a0e-8506-c40d371a7e58",
   "metadata": {},
   "outputs": [
    {
     "data": {
      "text/plain": [
       "dict_values(['Hi', 209, [1, 5, 6, 7, 8]])"
      ]
     },
     "execution_count": 75,
     "metadata": {},
     "output_type": "execute_result"
    }
   ],
   "source": [
    "s1.values()"
   ]
  },
  {
   "cell_type": "code",
   "execution_count": 76,
   "id": "862863a7-e5ea-4252-9e31-fc79373e9441",
   "metadata": {},
   "outputs": [
    {
     "data": {
      "text/plain": [
       "dict_items([('a', 'Hi'), (1, 209), ('g', [1, 5, 6, 7, 8])])"
      ]
     },
     "execution_count": 76,
     "metadata": {},
     "output_type": "execute_result"
    }
   ],
   "source": [
    "s1.items()"
   ]
  },
  {
   "cell_type": "code",
   "execution_count": 77,
   "id": "243c5099-2a53-4069-8819-84c0427dfd84",
   "metadata": {},
   "outputs": [],
   "source": [
    "del s1['a']"
   ]
  },
  {
   "cell_type": "code",
   "execution_count": 78,
   "id": "00008248-054a-47e2-80ff-e3fb23dab27f",
   "metadata": {},
   "outputs": [
    {
     "data": {
      "text/plain": [
       "dict_keys([1, 'g'])"
      ]
     },
     "execution_count": 78,
     "metadata": {},
     "output_type": "execute_result"
    }
   ],
   "source": [
    "s1.keys()"
   ]
  },
  {
   "cell_type": "code",
   "execution_count": 79,
   "id": "28e43d2c-0ffe-4bc1-a703-9befe642cc3c",
   "metadata": {},
   "outputs": [
    {
     "data": {
      "text/plain": [
       "dict_values([209, [1, 5, 6, 7, 8]])"
      ]
     },
     "execution_count": 79,
     "metadata": {},
     "output_type": "execute_result"
    }
   ],
   "source": [
    "s1.values()"
   ]
  },
  {
   "cell_type": "code",
   "execution_count": null,
   "id": "b922ddc8-848b-46ed-979f-259060b2cd59",
   "metadata": {},
   "outputs": [],
   "source": [
    "dict2 = {'Sport': 'Cricket' , 'Teams': ['India', 'Australia', 'England', 'South Africa', 'Sri Lanka', 'New Zealand']}"
   ]
  },
  {
   "cell_type": "code",
   "execution_count": 86,
   "id": "1e3200a8-0216-4c7f-ab5b-eb3bf870e0b4",
   "metadata": {},
   "outputs": [
    {
     "data": {
      "text/plain": [
       "<function dict.keys>"
      ]
     },
     "execution_count": 86,
     "metadata": {},
     "output_type": "execute_result"
    }
   ],
   "source": [
    "dict2.keys"
   ]
  },
  {
   "cell_type": "code",
   "execution_count": 85,
   "id": "175d68e8-3b00-4118-8cb2-acd5288c1054",
   "metadata": {},
   "outputs": [
    {
     "data": {
      "text/plain": [
       "dict_values(['Cricket', ['India', 'Australia', 'England', 'South Africa', 'Sri Lanka', 'New Zealand']])"
      ]
     },
     "execution_count": 85,
     "metadata": {},
     "output_type": "execute_result"
    }
   ],
   "source": [
    "dict2.values()"
   ]
  },
  {
   "cell_type": "code",
   "execution_count": 88,
   "id": "11da36b9-485e-4806-966d-b83a788ed7bc",
   "metadata": {},
   "outputs": [
    {
     "data": {
      "text/plain": [
       "dict_items([('Sport', 'Cricket'), ('Teams', ['India', 'Australia', 'England', 'South Africa', 'Sri Lanka', 'New Zealand'])])"
      ]
     },
     "execution_count": 88,
     "metadata": {},
     "output_type": "execute_result"
    }
   ],
   "source": [
    "dict2.items()"
   ]
  },
  {
   "cell_type": "code",
   "execution_count": 91,
   "id": "96e503fd-da34-4534-aa48-247603365a75",
   "metadata": {},
   "outputs": [
    {
     "data": {
      "text/plain": [
       "dict_items([('Sport', 'Cricket')])"
      ]
     },
     "execution_count": 91,
     "metadata": {},
     "output_type": "execute_result"
    }
   ],
   "source": [
    "dict2.items()"
   ]
  },
  {
   "cell_type": "code",
   "execution_count": null,
   "id": "7f92d557-cb84-4529-b6d2-14398abe1310",
   "metadata": {},
   "outputs": [],
   "source": []
  },
  {
   "cell_type": "code",
   "execution_count": null,
   "id": "1f0158dc-5730-4feb-a3af-393466221564",
   "metadata": {},
   "outputs": [],
   "source": []
  }
 ],
 "metadata": {
  "kernelspec": {
   "display_name": "Python 3 (ipykernel)",
   "language": "python",
   "name": "python3"
  },
  "language_info": {
   "codemirror_mode": {
    "name": "ipython",
    "version": 3
   },
   "file_extension": ".py",
   "mimetype": "text/x-python",
   "name": "python",
   "nbconvert_exporter": "python",
   "pygments_lexer": "ipython3",
   "version": "3.10.8"
  }
 },
 "nbformat": 4,
 "nbformat_minor": 5
}
