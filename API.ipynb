{
 "cells": [
  {
   "cell_type": "markdown",
   "id": "eb9be118-5302-49d2-83e5-ec531cc05c7e",
   "metadata": {},
   "source": [
    "Q1. What is an API? Give an example, where an API is used in real life.\n",
    "    \n",
    "    API stands for Application Program Interface. It is the middleware with which two or more programs can communicate with each other and share the data.\n",
    "    For example, you use any online payment methods such as Gpay, etc. which is not itself a bank but will connect to the bank server using the API, API establishes communication between Gpay and Bank server"
   ]
  },
  {
   "cell_type": "markdown",
   "id": "d820def4-6759-434b-a398-23abc0ef1d4d",
   "metadata": {},
   "source": [
    "Q2. Give advantages and disadvantages of using API.\n",
    "    \n",
    "    Advantages of API's-\n",
    "    1. Seamless communication between different organizations.\n",
    "    2. APIs let you create layers in apps in order to distribute information to different audiences.\n",
    "    3. APIs allow for more efficient data distribution.\n",
    "    4. API's are adaptable, saclable, flexible\n",
    "    Disadvantages of API's-\n",
    "    1. Creating API is a very time-consuming process\n",
    "    2. Maintenance cost is very high\n",
    "    3. To create API, programming knowledge is necessary\n",
    "    \n",
    "    "
   ]
  },
  {
   "cell_type": "markdown",
   "id": "1d3e38f2-cb74-4024-a14e-004f942b2fac",
   "metadata": {},
   "source": [
    "Q3. What is a Web API? Differentiate between API and Web API.\n",
    "\n",
    "    A Web API is an application programming interface which is use either for web server or a web browser.\n",
    "    Difference between API and Web API-\n",
    "    API                                                     Web API\n",
    "    1.Supports TCP,SMTP,Http protocols                      Supports only Http \n",
    "    2.All APIs are not web services                         All web services are APIs\n",
    "    \n",
    "    "
   ]
  },
  {
   "cell_type": "markdown",
   "id": "c5344992-bb85-43da-a67c-13a6edd1f56d",
   "metadata": {},
   "source": [
    "Q4. Explain REST and SOAP Architecture. Mention shortcomings of SOAP.\n",
    "    \n",
    "    REST(Representational State Transfer)-\n",
    "    1. A REST API (also known as RESTful API) is an application programming interface (API or web API) that conforms to the constraints of REST architectural style and allows for interaction with RESTful web services\n",
    "    2. Works over HTTP and HTTPS\n",
    "    3. It works with GET, POST, PUT, DELETE\n",
    "    4. Known for it's simplicity, scalability,flexibility \n",
    "    5. Less secure compared to SOAP\n",
    "    \n",
    "    SOAP(Simple Object Access Protocol)-\n",
    "    1. SOAP is a standard protocol that was first designed so that applications built with different languages and on different platforms could communicate\n",
    "    2. Works with any application layer protocols,https,smtp,tcp,etc.\n",
    "    3. Return SOAP messages must be returned as XML documents—a markup language that is both human- and machine-readable\n",
    "    4. Security is priority\n",
    "    \n",
    "    Shortcomiings of SOAP-\n",
    "    1. In comparison to Rest, SOAP is significantly more complex\n",
    "    2. SOAP is also extremely limited in its support of data formats (SOAP only supports XML)\n",
    "    3. API calls are not cached\n",
    "    \n",
    "    "
   ]
  },
  {
   "cell_type": "markdown",
   "id": "c73c4f7c-4c7d-4f4f-bd1e-31fa4f3aeee8",
   "metadata": {},
   "source": [
    "Q5. Differentiate between REST and SOAP.\n",
    "\n",
    "    Rest                                                           SOAP\n",
    "    Simple,scalable,flexible                                       Complex compared REST\n",
    "    Not more Secure                                                Secured copmared to REST\n",
    "    It works with GET, POST, PUT, DELETE                           Works with WSDL  \n",
    "    Works over HTTP and HTTPS                                      Works over HTTP, HTTPS, SMTP, XMPP"
   ]
  },
  {
   "cell_type": "code",
   "execution_count": null,
   "id": "e4fbd664-5556-4126-bd15-2f42dcffb54a",
   "metadata": {},
   "outputs": [],
   "source": []
  },
  {
   "cell_type": "code",
   "execution_count": null,
   "id": "43e697f5-ee87-4bb2-a9ff-920a9b7235d2",
   "metadata": {},
   "outputs": [],
   "source": []
  }
 ],
 "metadata": {
  "kernelspec": {
   "display_name": "Python 3 (ipykernel)",
   "language": "python",
   "name": "python3"
  },
  "language_info": {
   "codemirror_mode": {
    "name": "ipython",
    "version": 3
   },
   "file_extension": ".py",
   "mimetype": "text/x-python",
   "name": "python",
   "nbconvert_exporter": "python",
   "pygments_lexer": "ipython3",
   "version": "3.10.8"
  }
 },
 "nbformat": 4,
 "nbformat_minor": 5
}
