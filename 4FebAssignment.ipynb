{
 "cells": [
  {
   "cell_type": "markdown",
   "id": "c178342d-6bb4-4a23-9494-ee95bf6e74c7",
   "metadata": {},
   "source": [
    "Q1. Create a python program to sort the given list of tuples based on integer value using a\n",
    "lambda function.\n",
    "[('Sachin Tendulkar', 34357), ('Ricky Ponting', 27483), ('Jack Kallis', 25534), ('Virat Kohli', 24936)]"
   ]
  },
  {
   "cell_type": "code",
   "execution_count": 3,
   "id": "f2c56865-a6d1-4c3a-9b12-7bc5bce97169",
   "metadata": {},
   "outputs": [
    {
     "name": "stdout",
     "output_type": "stream",
     "text": [
      "[('Virat Kohli', 24936), ('Jack Kallis', 25534), ('Ricky Ponting', 27483), ('Sachin Tendulkar', 34357)]\n"
     ]
    }
   ],
   "source": [
    "l= [('Sachin Tendulkar', 34357), ('Ricky Ponting', 27483), ('Jack Kallis', 25534), ('Virat Kohli', 24936)]\n",
    "l.sort(key=lambda i:i[1])\n",
    "print(l)"
   ]
  },
  {
   "cell_type": "markdown",
   "id": "dbf1b40a-52d1-4e1b-9d6b-aaf170c1a39c",
   "metadata": {},
   "source": [
    "Q2. Write a Python Program to find the squares of all the numbers in the given list of integers using\n",
    "lambda and map functions.\n",
    "[1, 2, 3, 4, 5, 6, 7, 8, 9, 10]"
   ]
  },
  {
   "cell_type": "code",
   "execution_count": 12,
   "id": "ad0a1feb-ed04-4c20-af79-5814776f1e0a",
   "metadata": {},
   "outputs": [
    {
     "data": {
      "text/plain": [
       "[1, 4, 9, 16, 25, 36, 49, 64, 81, 100]"
      ]
     },
     "execution_count": 12,
     "metadata": {},
     "output_type": "execute_result"
    }
   ],
   "source": [
    "l1=[1, 2, 3, 4, 5, 6, 7, 8, 9, 10]\n",
    "list(map(lambda x:x**2, l1))\n"
   ]
  },
  {
   "cell_type": "markdown",
   "id": "6992ed6f-bc14-435e-b8d6-f369552b9ca8",
   "metadata": {},
   "source": [
    "Q3. Write a python program to convert the given list of integers into a tuple of strings. Use map and\n",
    "lambda functions\n",
    "Given String: [1, 2, 3, 4, 5, 6, 7, 8, 9, 10]\n",
    "Expected output: ('1', '2', '3', '4', '5', '6', '7', '8', '9', '10')"
   ]
  },
  {
   "cell_type": "code",
   "execution_count": 1,
   "id": "4fbc33cd-2105-4cd5-8d1a-efcd4bd2db96",
   "metadata": {},
   "outputs": [
    {
     "name": "stdout",
     "output_type": "stream",
     "text": [
      "(1, 2, 3, 4, 5, 6, 7, 8, 9, 10)\n"
     ]
    }
   ],
   "source": [
    "l2=[1, 2, 3, 4, 5, 6, 7, 8, 9, 10]\n",
    "\n",
    "a=lambda x:tuple(x)\n",
    "print(a(l2))"
   ]
  },
  {
   "cell_type": "markdown",
   "id": "11b5200e-9099-4f09-93f1-cea8a239f9ff",
   "metadata": {},
   "source": [
    "Q4. Write a python program using reduce function to compute the product of a list containing numbers\n",
    "from 1 to 25."
   ]
  },
  {
   "cell_type": "code",
   "execution_count": 26,
   "id": "ba57907b-bca8-4baf-b184-143254d148f6",
   "metadata": {},
   "outputs": [
    {
     "name": "stdout",
     "output_type": "stream",
     "text": [
      "325\n"
     ]
    }
   ],
   "source": [
    "from functools import reduce\n",
    "l4=list(range(1,26))\n",
    "n = reduce((lambda x, y: x + y), l4)\n",
    "print(n)"
   ]
  },
  {
   "cell_type": "markdown",
   "id": "d9bd5514-7ac8-4245-966e-e61444563578",
   "metadata": {},
   "source": [
    "Q5. Write a python program to filter the numbers in a given list that are divisible by 2 and 3 using the\n",
    "filter function.\n",
    "[2, 3, 6, 9, 27, 60, 90, 120, 55, 46]"
   ]
  },
  {
   "cell_type": "code",
   "execution_count": 3,
   "id": "b682ca37-a8a5-4b77-9385-5f517747b06e",
   "metadata": {},
   "outputs": [
    {
     "name": "stdout",
     "output_type": "stream",
     "text": [
      "[2, 6, 60, 90, 120, 46]\n",
      "[3, 6, 9, 27, 60, 90, 120]\n"
     ]
    }
   ],
   "source": [
    "l5= [2, 3, 6, 9, 27, 60, 90, 120, 55, 46]\n",
    "r=list(filter(lambda x:x%2==0,l5))\n",
    "r1=list(filter(lambda x:x%3==0,l5))\n",
    "print(list(r))\n",
    "print(list(r1))"
   ]
  },
  {
   "cell_type": "markdown",
   "id": "af4f3928-e4b7-4b0e-bdf9-cd0b9b4db7b3",
   "metadata": {},
   "source": [
    "Q6. Write a python program to find palindromes in the given list of strings using lambda and filter\n",
    "function.\n",
    "['python', 'php', 'aba', 'radar', 'level']"
   ]
  },
  {
   "cell_type": "code",
   "execution_count": 7,
   "id": "9f2d4201-cf43-4723-9901-854399fc5594",
   "metadata": {},
   "outputs": [
    {
     "name": "stdout",
     "output_type": "stream",
     "text": [
      "['php', 'aba', 'radar', 'level']\n"
     ]
    }
   ],
   "source": [
    "l6=['python', 'php', 'aba', 'radar', 'level']\n",
    "r3=list(filter(lambda x:(x==\"\".join(reversed(x))),l6))\n",
    "print(r3)\n"
   ]
  },
  {
   "cell_type": "code",
   "execution_count": null,
   "id": "ef377e7e-4751-40f1-9e1b-8a2c06338a12",
   "metadata": {},
   "outputs": [],
   "source": []
  },
  {
   "cell_type": "code",
   "execution_count": null,
   "id": "b829ded5-0862-447c-b5aa-3aa57c066131",
   "metadata": {},
   "outputs": [],
   "source": []
  }
 ],
 "metadata": {
  "kernelspec": {
   "display_name": "Python 3 (ipykernel)",
   "language": "python",
   "name": "python3"
  },
  "language_info": {
   "codemirror_mode": {
    "name": "ipython",
    "version": 3
   },
   "file_extension": ".py",
   "mimetype": "text/x-python",
   "name": "python",
   "nbconvert_exporter": "python",
   "pygments_lexer": "ipython3",
   "version": "3.10.8"
  }
 },
 "nbformat": 4,
 "nbformat_minor": 5
}
