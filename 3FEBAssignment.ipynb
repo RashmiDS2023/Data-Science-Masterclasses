{
 "cells": [
  {
   "cell_type": "markdown",
   "id": "7bd9012d-9b1e-4aca-8c4b-5a8ee7f883eb",
   "metadata": {},
   "source": [
    "Q1. Which keyword is used to create a function? Create a function to return a list of odd numbers in the\n",
    "range of 1 to 25.\n",
    "\n",
    "        keyword to define the function is \"def\" which is nothing but definition, definition of function "
   ]
  },
  {
   "cell_type": "code",
   "execution_count": 5,
   "id": "622eff07-5586-4e11-b48d-d7c8cd9fc224",
   "metadata": {},
   "outputs": [],
   "source": [
    "def oddnum():\n",
    "    l=[]\n",
    "    for i in range(1,25):\n",
    "        if (i%2!=0):\n",
    "            l.append(i)\n",
    "    return l"
   ]
  },
  {
   "cell_type": "code",
   "execution_count": 6,
   "id": "2cbdfd17-9cbf-430c-84e5-06406c3340b3",
   "metadata": {},
   "outputs": [
    {
     "data": {
      "text/plain": [
       "[1, 3, 5, 7, 9, 11, 13, 15, 17, 19, 21, 23]"
      ]
     },
     "execution_count": 6,
     "metadata": {},
     "output_type": "execute_result"
    }
   ],
   "source": [
    "oddnum()"
   ]
  },
  {
   "cell_type": "markdown",
   "id": "9b748992-74cf-4859-b678-1acd5ae6c960",
   "metadata": {},
   "source": [
    "Q2. Why *args and **kwargs is used in some functions? Create a function each for *args and **kwargs to\n",
    "demonstrate their use.\n",
    "\n",
    "    We can pass the information to the functions using arguments, if we know how many arguments we need to pass then it is fine if suppose we don't know how many arguments we need to pass in the runtime then comes the use of *args. *args means it can take any number of arguments.\n",
    "    Consider the following example-"
   ]
  },
  {
   "cell_type": "code",
   "execution_count": 13,
   "id": "126e0db5-2259-4d66-8b2e-3d984f0657ed",
   "metadata": {},
   "outputs": [],
   "source": [
    "def test1(*args):\n",
    "    return args"
   ]
  },
  {
   "cell_type": "code",
   "execution_count": 14,
   "id": "523819be-4d7b-4407-93ae-1aeab4d6c58b",
   "metadata": {},
   "outputs": [
    {
     "data": {
      "text/plain": [
       "(1, 'Rashmi', 23.8, [4, 8, 0, 8], (2, 8, 99, 44))"
      ]
     },
     "execution_count": 14,
     "metadata": {},
     "output_type": "execute_result"
    }
   ],
   "source": [
    "\n",
    "test1(1,\"Rashmi\",23.8,[4,8,0,8],(2,8,99,44))"
   ]
  },
  {
   "cell_type": "markdown",
   "id": "149828f1-dc34-4f4b-86ff-72b756d76cc0",
   "metadata": {},
   "source": [
    "#n number of arguments it can take in runtime, with any length, *args(static of args) static means n number of arguments"
   ]
  },
  {
   "cell_type": "markdown",
   "id": "b8488666-1db6-4e4b-b1f6-f789c80c855c",
   "metadata": {},
   "source": [
    "    **Kwargs(keyword arguments)\n",
    "    It means it will take n number of inputs in the form of key and value pair."
   ]
  },
  {
   "cell_type": "code",
   "execution_count": 18,
   "id": "1920ff6b-69e4-464b-8bfb-5d476d044d9a",
   "metadata": {},
   "outputs": [],
   "source": [
    "def test2(**kwargs):\n",
    "    return kwargs\n"
   ]
  },
  {
   "cell_type": "code",
   "execution_count": 19,
   "id": "fa09d978-0436-40dc-8439-df774f557e60",
   "metadata": {},
   "outputs": [
    {
     "data": {
      "text/plain": [
       "{}"
      ]
     },
     "execution_count": 19,
     "metadata": {},
     "output_type": "execute_result"
    }
   ],
   "source": [
    "test2()"
   ]
  },
  {
   "cell_type": "code",
   "execution_count": 20,
   "id": "f550dd9e-3ff5-4ac3-988c-7a34b3303e10",
   "metadata": {},
   "outputs": [
    {
     "data": {
      "text/plain": [
       "dict"
      ]
     },
     "execution_count": 20,
     "metadata": {},
     "output_type": "execute_result"
    }
   ],
   "source": [
    "type(test2())"
   ]
  },
  {
   "cell_type": "code",
   "execution_count": 23,
   "id": "4afd30d9-6fb1-472a-b17d-60917b8abd17",
   "metadata": {},
   "outputs": [
    {
     "data": {
      "text/plain": [
       "{'a': 'Hello', 'b': 'Rashmi', 'c': 'Learning', 'd': ['Python', 'ML', 'SQL']}"
      ]
     },
     "execution_count": 23,
     "metadata": {},
     "output_type": "execute_result"
    }
   ],
   "source": [
    "test2(a=\"Hello\",b=\"Rashmi\",c=\"Learning\",d=[\"Python\",\"ML\",\"SQL\"])"
   ]
  },
  {
   "cell_type": "markdown",
   "id": "bcaf82f1-b9e2-44f4-8103-f262ee420793",
   "metadata": {},
   "source": [
    "Q3. What is an iterator in python? Name the method used to initialise the iterator object and the method\n",
    "used for iteration. Use these methods to print the first five elements of the given list [2, 4, 6, 8, 10, 12, 14, 16,\n",
    "18, 20].\n",
    "\n",
    "    An iterator is an object that contains a countable number of values.\n",
    "    An iterator is an object that can be iterated upon, meaning that you can traverse through all the values."
   ]
  },
  {
   "cell_type": "code",
   "execution_count": 30,
   "id": "1334fa3f-2880-4367-b6a5-7f001fa58e68",
   "metadata": {},
   "outputs": [
    {
     "name": "stdout",
     "output_type": "stream",
     "text": [
      "2\n",
      "4\n",
      "6\n",
      "8\n",
      "10\n",
      "[2, 4, 6, 8]\n"
     ]
    }
   ],
   "source": [
    "mylist=[2, 4, 6, 8, 10, 12, 14, 16, 18, 20]\n",
    "myit=iter(mylist)\n",
    "print(next(myit))\n",
    "print(next(myit))\n",
    "print(next(myit))\n",
    "print(next(myit))\n",
    "print(next(myit))\n",
    "print(mylist[:4])"
   ]
  },
  {
   "cell_type": "markdown",
   "id": "00eba387-4d32-4be7-95f7-61ecfb42973e",
   "metadata": {},
   "source": [
    "Q4. What is a generator function in python? Why yield keyword is used? Give an example of a generator\n",
    "function.\n",
    "\n",
    "    Generators are the functions which return the sequence to values back, uses yeild statement, as we generate the custom sequence using yeild we will be storing each value in the sequence and at end returns whole sequence. \n",
    "    Similar to range data type "
   ]
  },
  {
   "cell_type": "code",
   "execution_count": 41,
   "id": "18f67df1-217f-41ef-a916-77d332adfc57",
   "metadata": {},
   "outputs": [],
   "source": [
    "def gen(x,y):\n",
    "    while x<y:\n",
    "        yield x\n",
    "        x+=1"
   ]
  },
  {
   "cell_type": "code",
   "execution_count": 43,
   "id": "76a578a4-2cd0-4860-a6cf-bb4557972934",
   "metadata": {},
   "outputs": [
    {
     "name": "stdout",
     "output_type": "stream",
     "text": [
      "1\n",
      "2\n",
      "3\n",
      "4\n",
      "5\n",
      "6\n",
      "7\n",
      "8\n",
      "9\n",
      "10\n",
      "11\n",
      "12\n",
      "13\n",
      "14\n",
      "15\n",
      "16\n",
      "17\n",
      "18\n",
      "19\n"
     ]
    }
   ],
   "source": [
    "a=gen(1,20)\n",
    "for i in a:\n",
    "    print(i)"
   ]
  },
  {
   "cell_type": "markdown",
   "id": "bf6a87db-bd1b-4933-982f-3e0b8bc19e6d",
   "metadata": {},
   "source": [
    "Q5. Create a generator function for prime numbers less than 1000. Use the next() method to print the\n",
    "first 20 prime numbers"
   ]
  },
  {
   "cell_type": "code",
   "execution_count": 8,
   "id": "83b43bff-717e-4e61-997f-7a41687798ad",
   "metadata": {},
   "outputs": [
    {
     "name": "stdout",
     "output_type": "stream",
     "text": [
      "2 3 5 7 11 13 17 19\n"
     ]
    }
   ],
   "source": [
    "\n",
    "def gen_primes(N):\n",
    "    \"\"\"Generate primes up to N\"\"\"\n",
    "    primes = set()\n",
    "    for n in range(2, N):\n",
    "        if all(n % p > 0 for p in primes):\n",
    "            primes.add(n)\n",
    "            yield n\n",
    "\n",
    "print(*gen_primes(20))"
   ]
  },
  {
   "cell_type": "code",
   "execution_count": null,
   "id": "b8148b02-9b98-428a-a076-24649ca04d9f",
   "metadata": {},
   "outputs": [],
   "source": [
    "2 3 5 7 11 13 17 19"
   ]
  },
  {
   "cell_type": "code",
   "execution_count": null,
   "id": "edf9ab4c-5bad-420f-89b9-9c7b3e0c2929",
   "metadata": {},
   "outputs": [],
   "source": []
  },
  {
   "cell_type": "code",
   "execution_count": null,
   "id": "6606c817-3c70-4b30-a5cb-cbadbfe2c771",
   "metadata": {},
   "outputs": [],
   "source": []
  }
 ],
 "metadata": {
  "kernelspec": {
   "display_name": "Python 3 (ipykernel)",
   "language": "python",
   "name": "python3"
  },
  "language_info": {
   "codemirror_mode": {
    "name": "ipython",
    "version": 3
   },
   "file_extension": ".py",
   "mimetype": "text/x-python",
   "name": "python",
   "nbconvert_exporter": "python",
   "pygments_lexer": "ipython3",
   "version": "3.10.8"
  }
 },
 "nbformat": 4,
 "nbformat_minor": 5
}
